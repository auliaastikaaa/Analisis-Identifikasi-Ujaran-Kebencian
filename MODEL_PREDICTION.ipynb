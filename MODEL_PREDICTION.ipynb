{
 "cells": [
  {
   "cell_type": "markdown",
   "id": "eacd8e0a",
   "metadata": {},
   "source": [
    "# 6. Prediksi 10 Data "
   ]
  },
  {
   "cell_type": "code",
   "execution_count": 2,
   "id": "c344219b",
   "metadata": {},
   "outputs": [],
   "source": [
    "import pandas as pd"
   ]
  },
  {
   "cell_type": "code",
   "execution_count": 3,
   "id": "f434cab9",
   "metadata": {},
   "outputs": [],
   "source": [
    "import os"
   ]
  },
  {
   "cell_type": "code",
   "execution_count": 4,
   "id": "0f15f2cf",
   "metadata": {},
   "outputs": [],
   "source": [
    "os.chdir(\"D:/AI/NLP\")"
   ]
  },
  {
   "cell_type": "code",
   "execution_count": 5,
   "id": "822e87ab",
   "metadata": {},
   "outputs": [],
   "source": [
    "from NLP_Models import model_prediction as mo"
   ]
  },
  {
   "cell_type": "code",
   "execution_count": 6,
   "id": "baf705c2",
   "metadata": {},
   "outputs": [],
   "source": [
    "teks1 = 'Haha biang bangsat! Cebong lu!'"
   ]
  },
  {
   "cell_type": "code",
   "execution_count": 7,
   "id": "7ae3d326",
   "metadata": {},
   "outputs": [
    {
     "data": {
      "text/plain": [
       "{'model_pred': {'hate': 56.329298707973564, 'nonhate': 43.670701292026436},\n",
       " 'final_result': 'hate',\n",
       " 'confidence': 56.329}"
      ]
     },
     "execution_count": 7,
     "metadata": {},
     "output_type": "execute_result"
    }
   ],
   "source": [
    "mo.hateSpeechPredict(teks1)"
   ]
  },
  {
   "cell_type": "code",
   "execution_count": 8,
   "id": "ffe666ad",
   "metadata": {},
   "outputs": [],
   "source": [
    "teks2 = ' Si bangsat cebong penyebar hoax ternyata anak banteng'"
   ]
  },
  {
   "cell_type": "code",
   "execution_count": 9,
   "id": "8dc1cd57",
   "metadata": {},
   "outputs": [
    {
     "data": {
      "text/plain": [
       "{'model_pred': {'hate': 78.12978990701504, 'nonhate': 21.87021009298497},\n",
       " 'final_result': 'hate',\n",
       " 'confidence': 78.13}"
      ]
     },
     "execution_count": 9,
     "metadata": {},
     "output_type": "execute_result"
    }
   ],
   "source": [
    "mo.hateSpeechPredict(teks2)"
   ]
  },
  {
   "cell_type": "code",
   "execution_count": 10,
   "id": "9ed048d7",
   "metadata": {},
   "outputs": [],
   "source": [
    "teks3 = 'Flu babi muncul di Cina, dan flu burung menyebar dr Cina ke dunia,sekarang virus korona telah muncul d Cina Masyarakat Cina adalah masyarakat yg korup secara mental. Kt harus menyelamatkan anak2 Tiongkok telah menjadi ancaman bagi kemanusiaan.#Corono'"
   ]
  },
  {
   "cell_type": "code",
   "execution_count": 11,
   "id": "8790402a",
   "metadata": {},
   "outputs": [
    {
     "data": {
      "text/plain": [
       "{'model_pred': {'hate': 3.3566841654093156, 'nonhate': 96.64331583459068},\n",
       " 'final_result': 'nonhate',\n",
       " 'confidence': 96.643}"
      ]
     },
     "execution_count": 11,
     "metadata": {},
     "output_type": "execute_result"
    }
   ],
   "source": [
    "mo.hateSpeechPredict(teks3)"
   ]
  },
  {
   "cell_type": "code",
   "execution_count": 12,
   "id": "f176c165",
   "metadata": {},
   "outputs": [],
   "source": [
    "teks4 = 'Bangsat cina. I said what i said. Fuck you sepet'"
   ]
  },
  {
   "cell_type": "code",
   "execution_count": 13,
   "id": "d6b15fd0",
   "metadata": {},
   "outputs": [
    {
     "data": {
      "text/plain": [
       "{'model_pred': {'hate': 60.691383151441805, 'nonhate': 39.30861684855818},\n",
       " 'final_result': 'hate',\n",
       " 'confidence': 60.691}"
      ]
     },
     "execution_count": 13,
     "metadata": {},
     "output_type": "execute_result"
    }
   ],
   "source": [
    "mo.hateSpeechPredict(teks4)"
   ]
  },
  {
   "cell_type": "code",
   "execution_count": 14,
   "id": "aa898ee9",
   "metadata": {},
   "outputs": [],
   "source": [
    "teks5 = 'Dasar komunis bangsat, cina bangsat, gara2 itu laga Arsenal vs city jg nngak di siarin di negerinya segitu bencinya sama Ozil yg mengucapkan rasa simpatinya..'"
   ]
  },
  {
   "cell_type": "code",
   "execution_count": 15,
   "id": "29dc5dab",
   "metadata": {},
   "outputs": [
    {
     "data": {
      "text/plain": [
       "{'model_pred': {'hate': 79.98096259269613, 'nonhate': 20.019037407303884},\n",
       " 'final_result': 'hate',\n",
       " 'confidence': 79.981}"
      ]
     },
     "execution_count": 15,
     "metadata": {},
     "output_type": "execute_result"
    }
   ],
   "source": [
    "mo.hateSpeechPredict(teks5)"
   ]
  },
  {
   "cell_type": "code",
   "execution_count": 16,
   "id": "432b8f60",
   "metadata": {},
   "outputs": [],
   "source": [
    "teks6 = 'WOI blantik ASU jelasin sejarah Cina setau saya bangsat cina yang menggarong di Indonesia #JanganPercayaBoneka #JanganPercayaBoneka'"
   ]
  },
  {
   "cell_type": "code",
   "execution_count": 17,
   "id": "f06f6781",
   "metadata": {},
   "outputs": [
    {
     "data": {
      "text/plain": [
       "{'model_pred': {'hate': 33.63448187933185, 'nonhate': 66.36551812066816},\n",
       " 'final_result': 'nonhate',\n",
       " 'confidence': 66.366}"
      ]
     },
     "execution_count": 17,
     "metadata": {},
     "output_type": "execute_result"
    }
   ],
   "source": [
    "mo.hateSpeechPredict(teks6)"
   ]
  },
  {
   "cell_type": "code",
   "execution_count": 18,
   "id": "2822935a",
   "metadata": {},
   "outputs": [],
   "source": [
    "teks7 = 'D manakah bangsat cina yg mmpjuangkan hak sama rata ketika ini? Maaf bukan aku rasis tp ini juga knyataan...oh ya,bukit kepong jgn lupa'"
   ]
  },
  {
   "cell_type": "code",
   "execution_count": 19,
   "id": "61b6ccb6",
   "metadata": {},
   "outputs": [
    {
     "data": {
      "text/plain": [
       "{'model_pred': {'hate': 64.1710739380262, 'nonhate': 35.82892606197381},\n",
       " 'final_result': 'hate',\n",
       " 'confidence': 64.171}"
      ]
     },
     "execution_count": 19,
     "metadata": {},
     "output_type": "execute_result"
    }
   ],
   "source": [
    "mo.hateSpeechPredict(teks7)"
   ]
  },
  {
   "cell_type": "code",
   "execution_count": 20,
   "id": "4f31869e",
   "metadata": {},
   "outputs": [],
   "source": [
    "teks8 = ' Cita-cita kok meniduri 100 perempuan. Cita-cita tuh melindungi segenap bangsa Indonesia dan seluruh tumpah darah Indonesia, memajukan kesejahteraan umum, mencerdaskan kehidupan bangsa, dan ikut melaksanakan ketertiban dunia yang berdasarkan kemerdekaan'"
   ]
  },
  {
   "cell_type": "code",
   "execution_count": 21,
   "id": "a580b298",
   "metadata": {},
   "outputs": [
    {
     "data": {
      "text/plain": [
       "{'model_pred': {'hate': 0.0005871507708040325, 'nonhate': 99.9994128492292},\n",
       " 'final_result': 'nonhate',\n",
       " 'confidence': 99.999}"
      ]
     },
     "execution_count": 21,
     "metadata": {},
     "output_type": "execute_result"
    }
   ],
   "source": [
    "mo.hateSpeechPredict(teks8)"
   ]
  },
  {
   "cell_type": "code",
   "execution_count": 22,
   "id": "55aa041c",
   "metadata": {},
   "outputs": [],
   "source": [
    "teks9 = 'Sejak proklamasi kemerdekaan, Pancasila ditetapkan sebagai ideologi bangsa Indonesia, sebagai pedoman hidup masyarakat Indonesia dalam ber.....https://facebook.com/103754998279685/posts/198032845518566/…'"
   ]
  },
  {
   "cell_type": "code",
   "execution_count": 23,
   "id": "8c709788",
   "metadata": {},
   "outputs": [
    {
     "data": {
      "text/plain": [
       "{'model_pred': {'hate': 6.447043716798815e-05, 'nonhate': 99.99993552956283},\n",
       " 'final_result': 'nonhate',\n",
       " 'confidence': 100.0}"
      ]
     },
     "execution_count": 23,
     "metadata": {},
     "output_type": "execute_result"
    }
   ],
   "source": [
    "mo.hateSpeechPredict(teks9)"
   ]
  },
  {
   "cell_type": "code",
   "execution_count": 24,
   "id": "a68f7d1e",
   "metadata": {},
   "outputs": [],
   "source": [
    "teks10 = 'SAYA PRIHATIN SEKALI GENERASI PENERUS BANGSA INDONESIA SEPERTI INI AKIBAT PEMBELAJARAN TATAP MUKA ON LINE YA DI BATASI MIN SEMINGGU 2X DAN HANYA 2 JAM'"
   ]
  },
  {
   "cell_type": "code",
   "execution_count": 25,
   "id": "be43e521",
   "metadata": {},
   "outputs": [
    {
     "data": {
      "text/plain": [
       "{'model_pred': {'hate': 0.7828481884821578, 'nonhate': 99.21715181151784},\n",
       " 'final_result': 'nonhate',\n",
       " 'confidence': 99.217}"
      ]
     },
     "execution_count": 25,
     "metadata": {},
     "output_type": "execute_result"
    }
   ],
   "source": [
    "mo.hateSpeechPredict(teks10)"
   ]
  }
 ],
 "metadata": {
  "kernelspec": {
   "display_name": "Python 3",
   "language": "python",
   "name": "python3"
  },
  "language_info": {
   "codemirror_mode": {
    "name": "ipython",
    "version": 3
   },
   "file_extension": ".py",
   "mimetype": "text/x-python",
   "name": "python",
   "nbconvert_exporter": "python",
   "pygments_lexer": "ipython3",
   "version": "3.8.8"
  }
 },
 "nbformat": 4,
 "nbformat_minor": 5
}
